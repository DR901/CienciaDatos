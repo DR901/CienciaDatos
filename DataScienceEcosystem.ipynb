{
  "metadata": {
    "kernelspec": {
      "name": "python",
      "display_name": "Python (Pyodide)",
      "language": "python"
    },
    "language_info": {
      "codemirror_mode": {
        "name": "python",
        "version": 3
      },
      "file_extension": ".py",
      "mimetype": "text/x-python",
      "name": "python",
      "nbconvert_exporter": "python",
      "pygments_lexer": "ipython3",
      "version": "3.8"
    }
  },
  "nbformat_minor": 4,
  "nbformat": 4,
  "cells": [
    {
      "cell_type": "markdown",
      "source": "<h1>Data Science Tools and Ecosystem<h1>",
      "metadata": {}
    },
    {
      "cell_type": "markdown",
      "source": "<h3>In this notebook, Data Science Tools and Ecosystem are summarized<h3>\n\n__Objectives:__\n* Python\n* Julia\n* R\n* Numpy\n* Scipy\n\n<h2>Author: Diego Rivas</h2>",
      "metadata": {}
    },
    {
      "cell_type": "markdown",
      "source": "<h4>Some of the popular languages that Data Scientists use are<h4>\n\n<ol>\n  <p>Python</p>\n  <p>Julia</p>\n  <p>R</p>\n</ol>",
      "metadata": {}
    },
    {
      "cell_type": "markdown",
      "source": "Some of the commonly used libraries used by Data Scientists include:\n\n<ol>\n    <p>Numpy</p>\n    <p>Scipy</p>\n    <p>Matplotlib</p>\n    <p>Pandas</p>\n</ol>",
      "metadata": {}
    },
    {
      "cell_type": "markdown",
      "source": "| Data Science Tools |\n| :- | \n| Jupyter Notebook | \n| Pytorch |\n| Anaconda |",
      "metadata": {}
    },
    {
      "cell_type": "markdown",
      "source": "<h3>Below are a few examples of evaluating arithmetic expressions in Python.<h3>",
      "metadata": {}
    },
    {
      "cell_type": "code",
      "source": "#This a simple arithmetic expression to mutiply then add integers\n\n(3*4)+5",
      "metadata": {
        "trusted": true
      },
      "outputs": [
        {
          "execution_count": 7,
          "output_type": "execute_result",
          "data": {
            "text/plain": "17"
          },
          "metadata": {}
        }
      ],
      "execution_count": 7
    },
    {
      "cell_type": "code",
      "source": "#his will convert 200 minutes to hours by diving by 60.\nminutos=200\nmin_hr=60\nvalor_calcular_hr = minutos/min_hr\nprint(\"{:.2f} Horas\".format(valor_calcular_hr))",
      "metadata": {
        "trusted": true
      },
      "outputs": [
        {
          "name": "stdout",
          "text": "3.33 Horas\n",
          "output_type": "stream"
        }
      ],
      "execution_count": 16
    },
    {
      "cell_type": "code",
      "source": "",
      "metadata": {
        "trusted": true
      },
      "outputs": [],
      "execution_count": null
    }
  ]
}